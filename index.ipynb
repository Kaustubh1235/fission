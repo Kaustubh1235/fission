{
 "cells": [
  {
   "cell_type": "markdown",
   "id": "88657f14",
   "metadata": {},
   "source": [
    "###this is python  deep_translator which has a googletraslator api"
   ]
  },
  {
   "cell_type": "code",
   "execution_count": 2,
   "id": "8a7bb8cf",
   "metadata": {},
   "outputs": [
    {
     "name": "stdout",
     "output_type": "stream",
     "text": [
      "مرحبا، كيف حالك؟\n",
      "I am good, thanks\n"
     ]
    }
   ],
   "source": [
    "from deep_translator import GoogleTranslator\n",
    "\n",
    "translator_en_ar = GoogleTranslator(source='en', target='ar')##need to know\n",
    "result_ar = translator_en_ar.translate(\"Hello, how are you?\")\n",
    "print(result_ar)  \n",
    "\n",
    "\n",
    "translator_ar_en = GoogleTranslator(source='ar', target='en')\n",
    "result_en = translator_ar_en.translate(\"أنا جيد، شكرا\")\n",
    "print(result_en) \n"
   ]
  },
  {
   "cell_type": "markdown",
   "id": "e3a1a750",
   "metadata": {},
   "source": [
    "##simple make it interchangable"
   ]
  },
  {
   "cell_type": "code",
   "execution_count": 5,
   "id": "779b70ec",
   "metadata": {},
   "outputs": [
    {
     "name": "stdout",
     "output_type": "stream",
     "text": [
      "مذهل\n"
     ]
    }
   ],
   "source": [
    "translator = GoogleTranslator(source='auto', target='arabic')\n",
    "print(translator.translate(\"awesome\"))  # auto-detects \"en\" and translates\n"
   ]
  },
  {
   "cell_type": "markdown",
   "id": "c327bdc1",
   "metadata": {},
   "source": [
    "##transformers"
   ]
  },
  {
   "cell_type": "code",
   "execution_count": 7,
   "id": "201ee64c",
   "metadata": {},
   "outputs": [
    {
     "name": "stderr",
     "output_type": "stream",
     "text": [
      "Device set to use cpu\n"
     ]
    },
    {
     "name": "stdout",
     "output_type": "stream",
     "text": [
      "مرحباً، كيف حالك؟\n"
     ]
    },
    {
     "name": "stderr",
     "output_type": "stream",
     "text": [
      "Device set to use cpu\n"
     ]
    },
    {
     "name": "stdout",
     "output_type": "stream",
     "text": [
      "I'm fine, thanks.\n"
     ]
    }
   ],
   "source": [
    "from transformers import pipeline\n",
    "\n",
    "# English->Arabic\n",
    "translator_en_ar = pipeline(\n",
    "    \"translation_en_to_ar\", \n",
    "    model=\"Helsinki-NLP/opus-mt-tc-big-en-ar\"\n",
    ")\n",
    "print(translator_en_ar(\"Hello, how are you?\")[0]['translation_text'])\n",
    "\n",
    "\n",
    "# Arabic->English\n",
    "translator_ar_en = pipeline(\n",
    "    \"translation_ar_to_en\", \n",
    "    model=\"Helsinki-NLP/opus-mt-tc-big-ar-en\"\n",
    ")\n",
    "print(translator_ar_en(\"أنا بخير، شكراً\")[0]['translation_text'])\n",
    "# Output: \"I'm fine, thank you\"\n"
   ]
  },
  {
   "cell_type": "code",
   "execution_count": 8,
   "id": "42766b56",
   "metadata": {},
   "outputs": [
    {
     "name": "stdout",
     "output_type": "stream",
     "text": [
      "['أحب البرمجة.', 'ما هو اسمك؟']\n"
     ]
    }
   ],
   "source": [
    "from transformers import MarianTokenizer, MarianMTModel\n",
    "\n",
    "model_name = \"Helsinki-NLP/opus-mt-tc-big-en-ar\"\n",
    "tokenizer = MarianTokenizer.from_pretrained(model_name)\n",
    "model = MarianMTModel.from_pretrained(model_name)\n",
    "\n",
    "src_text = [\"I love programming.\", \"What's your name?\"]\n",
    "# Tokenize and translate\n",
    "encoded = tokenizer(src_text, return_tensors=\"pt\", padding=True)\n",
    "translated = model.generate(**encoded)\n",
    "decoded = [tokenizer.decode(t, skip_special_tokens=True) for t in translated]\n",
    "print(decoded)\n",
    "# e.g. ['أحب البرمجة.', 'ما اسمك؟']:contentReference[oaicite:13]{index=13}\n"
   ]
  },
  {
   "cell_type": "code",
   "execution_count": 10,
   "id": "483e68f2",
   "metadata": {},
   "outputs": [
    {
     "name": "stdout",
     "output_type": "stream",
     "text": [
      "أب\n"
     ]
    }
   ],
   "source": [
    "direction = input(\"Type 'en' for English→Arabic or 'ar' for Arabic→English: \")\n",
    "text = input(\"Enter text: \")\n",
    "if direction == 'en':\n",
    "    translated = GoogleTranslator(source='en', target='ar').translate(text)\n",
    "else:\n",
    "    translated = GoogleTranslator(source='ar', target='en').translate(text)\n",
    "print(translated)\n"
   ]
  },
  {
   "cell_type": "code",
   "execution_count": 12,
   "id": "a59ba55f",
   "metadata": {},
   "outputs": [
    {
     "name": "stdout",
     "output_type": "stream",
     "text": [
      "أمي أحتاج أبي\n"
     ]
    }
   ],
   "source": [
    "direction = input(\"Type 'en' for English→Arabic or 'ar' for Arabic→English: \")\n",
    "text = input(\"Enter text: \")\n",
    "if direction == 'en':\n",
    "    translated = GoogleTranslator(source='en', target='ar').translate(text)\n",
    "else:\n",
    "    translated = GoogleTranslator(source='ar', target='en').translate(text)\n",
    "print(translated)\n"
   ]
  },
  {
   "cell_type": "code",
   "execution_count": null,
   "id": "3b84f5f2",
   "metadata": {},
   "outputs": [],
   "source": []
  },
  {
   "cell_type": "code",
   "execution_count": 23,
   "id": "76a6a189",
   "metadata": {},
   "outputs": [],
   "source": [
    "from deep_translator import GoogleTranslator\n",
    "\n",
    "def translate_text(text, src, tgt):\n",
    "    return GoogleTranslator(source=src, target=tgt).translate(text)\n",
    "\n",
    "def chat():\n",
    "    print(\"English-Arabic Translator (type 'exit' to quit)\")\n",
    "    mode = 'en'  # default mode: English→Arabic\n",
    "    while True:\n",
    "        text = input(f\"[{mode}→{'ar' if mode=='en' else 'en'}] You: \")\n",
    "        if text.lower() in ('exit', 'quit'):\n",
    "            print(\"Goodbye!\")\n",
    "            break\n",
    "        if not text.strip():\n",
    "            continue\n",
    "        # Optionally switch mode on a special command\n",
    "        if text.startswith(\"/swap\"):\n",
    "            mode = 'ar' if mode=='en' else 'en'\n",
    "            print(f\"Switched mode to: {'English→Arabic' if mode=='en' else 'Arabic→English'}\")\n",
    "            continue\n",
    "        # Translate using deep_translator as an example\n",
    "        translator = GoogleTranslator(source=('auto' if mode=='en' else 'auto'),\n",
    "                                      target=('ar' if mode=='en' else 'en'))\n",
    "        try:\n",
    "            translation = translator.translate(text)\n",
    "            print(\"Bot:\", translation)\n",
    "        except Exception as e:\n",
    "            print(\"Error:\", e)\n"
   ]
  },
  {
   "cell_type": "code",
   "execution_count": 25,
   "id": "a2af3f56",
   "metadata": {},
   "outputs": [
    {
     "name": "stderr",
     "output_type": "stream",
     "text": [
      "2025-05-22 19:37:26.895 Thread 'MainThread': missing ScriptRunContext! This warning can be ignored when running in bare mode.\n",
      "2025-05-22 19:37:26.897 Thread 'MainThread': missing ScriptRunContext! This warning can be ignored when running in bare mode.\n",
      "2025-05-22 19:37:26.904 Thread 'MainThread': missing ScriptRunContext! This warning can be ignored when running in bare mode.\n",
      "2025-05-22 19:37:26.905 Thread 'MainThread': missing ScriptRunContext! This warning can be ignored when running in bare mode.\n",
      "2025-05-22 19:37:26.908 Thread 'MainThread': missing ScriptRunContext! This warning can be ignored when running in bare mode.\n",
      "2025-05-22 19:37:26.910 Thread 'MainThread': missing ScriptRunContext! This warning can be ignored when running in bare mode.\n",
      "2025-05-22 19:37:26.915 Thread 'MainThread': missing ScriptRunContext! This warning can be ignored when running in bare mode.\n",
      "2025-05-22 19:37:26.916 Thread 'MainThread': missing ScriptRunContext! This warning can be ignored when running in bare mode.\n",
      "2025-05-22 19:37:26.917 Thread 'MainThread': missing ScriptRunContext! This warning can be ignored when running in bare mode.\n",
      "2025-05-22 19:37:26.918 Thread 'MainThread': missing ScriptRunContext! This warning can be ignored when running in bare mode.\n",
      "2025-05-22 19:37:26.920 Thread 'MainThread': missing ScriptRunContext! This warning can be ignored when running in bare mode.\n",
      "2025-05-22 19:37:26.921 Thread 'MainThread': missing ScriptRunContext! This warning can be ignored when running in bare mode.\n",
      "2025-05-22 19:37:26.923 Thread 'MainThread': missing ScriptRunContext! This warning can be ignored when running in bare mode.\n",
      "2025-05-22 19:37:26.924 Thread 'MainThread': missing ScriptRunContext! This warning can be ignored when running in bare mode.\n",
      "2025-05-22 19:37:26.925 Thread 'MainThread': missing ScriptRunContext! This warning can be ignored when running in bare mode.\n",
      "2025-05-22 19:37:26.927 Thread 'MainThread': missing ScriptRunContext! This warning can be ignored when running in bare mode.\n",
      "2025-05-22 19:37:26.927 Thread 'MainThread': missing ScriptRunContext! This warning can be ignored when running in bare mode.\n",
      "2025-05-22 19:37:26.928 Thread 'MainThread': missing ScriptRunContext! This warning can be ignored when running in bare mode.\n",
      "2025-05-22 19:37:26.928 Thread 'MainThread': missing ScriptRunContext! This warning can be ignored when running in bare mode.\n"
     ]
    }
   ],
   "source": [
    "import streamlit as st\n",
    "from transformers import pipeline\n",
    "\n",
    "st.title(\"English↔Arabic Translator\")\n",
    "\n",
    "text = st.text_area(\"Enter text to translate:\")\n",
    "direction = st.radio(\"Translate:\", (\"English → Arabic\", \"Arabic → English\"))\n",
    "if st.button(\"Translate\"):\n",
    "    if not text:\n",
    "        st.warning(\"Please enter text!\")\n",
    "    else:\n",
    "        # Load model on demand (or initialize above to reuse)\n",
    "        if direction == \"English → Arabic\":\n",
    "            translator = pipeline(\"translation_en_to_ar\", model=\"Helsinki-NLP/opus-mt-tc-big-en-ar\")\n",
    "            res = translator(text)[0]['translation_text']\n",
    "        else:\n",
    "            translator = pipeline(\"translation_ar_to_en\", model=\"Helsinki-NLP/opus-mt-tc-big-ar-en\")\n",
    "            res = translator(text)[0]['translation_text']\n",
    "        st.success(res)\n"
   ]
  }
 ],
 "metadata": {
  "kernelspec": {
   "display_name": "translator-bot",
   "language": "python",
   "name": "python3"
  },
  "language_info": {
   "codemirror_mode": {
    "name": "ipython",
    "version": 3
   },
   "file_extension": ".py",
   "mimetype": "text/x-python",
   "name": "python",
   "nbconvert_exporter": "python",
   "pygments_lexer": "ipython3",
   "version": "3.9.22"
  }
 },
 "nbformat": 4,
 "nbformat_minor": 5
}
